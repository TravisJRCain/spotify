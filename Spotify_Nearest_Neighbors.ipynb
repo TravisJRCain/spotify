{
  "nbformat": 4,
  "nbformat_minor": 0,
  "metadata": {
    "colab": {
      "name": "Spotify_Nearest_Neighbors.ipynb",
      "provenance": [],
      "collapsed_sections": []
    },
    "kernelspec": {
      "name": "python3",
      "display_name": "Python 3"
    }
  },
  "cells": [
    {
      "cell_type": "code",
      "metadata": {
        "id": "3u1kLfO_jhNX",
        "colab_type": "code",
        "colab": {}
      },
      "source": [
        "import pandas as pd\n",
        "from sklearn.preprocessing import StandardScaler\n",
        "from sklearn.neighbors import NearestNeighbors"
      ],
      "execution_count": 0,
      "outputs": []
    },
    {
      "cell_type": "code",
      "metadata": {
        "id": "sJO-mEwPjpHq",
        "colab_type": "code",
        "colab": {}
      },
      "source": [
        "# load data\n",
        "data = pd.read_csv(\n",
        "    \"https://raw.githubusercontent.com/Lambda-Spotify-Song-Suggester-3/datascience/master/kaggle_data/encoded.csv\")\n",
        "df = data.copy()\n",
        "\n",
        "dictionary = df[['artist_name', 'track_name', 'track_key', 'track_id']]"
      ],
      "execution_count": 0,
      "outputs": []
    },
    {
      "cell_type": "code",
      "metadata": {
        "id": "US0idWMRjqFG",
        "colab_type": "code",
        "colab": {
          "base_uri": "https://localhost:8080/",
          "height": 385
        },
        "outputId": "39ce1e78-6c1e-4db7-b50f-192135adf786"
      },
      "source": [
        "print(df.shape)\n",
        "df.head()"
      ],
      "execution_count": 18,
      "outputs": [
        {
          "output_type": "stream",
          "text": [
            "(130663, 19)\n"
          ],
          "name": "stdout"
        },
        {
          "output_type": "execute_result",
          "data": {
            "text/html": [
              "<div>\n",
              "<style scoped>\n",
              "    .dataframe tbody tr th:only-of-type {\n",
              "        vertical-align: middle;\n",
              "    }\n",
              "\n",
              "    .dataframe tbody tr th {\n",
              "        vertical-align: top;\n",
              "    }\n",
              "\n",
              "    .dataframe thead th {\n",
              "        text-align: right;\n",
              "    }\n",
              "</style>\n",
              "<table border=\"1\" class=\"dataframe\">\n",
              "  <thead>\n",
              "    <tr style=\"text-align: right;\">\n",
              "      <th></th>\n",
              "      <th>artist_name</th>\n",
              "      <th>track_id</th>\n",
              "      <th>track_name</th>\n",
              "      <th>acousticness</th>\n",
              "      <th>danceability</th>\n",
              "      <th>duration_ms</th>\n",
              "      <th>energy</th>\n",
              "      <th>instrumentalness</th>\n",
              "      <th>key</th>\n",
              "      <th>liveness</th>\n",
              "      <th>loudness</th>\n",
              "      <th>mode</th>\n",
              "      <th>speechiness</th>\n",
              "      <th>tempo</th>\n",
              "      <th>time_signature</th>\n",
              "      <th>valence</th>\n",
              "      <th>popularity</th>\n",
              "      <th>track_key</th>\n",
              "      <th>artist_key</th>\n",
              "    </tr>\n",
              "  </thead>\n",
              "  <tbody>\n",
              "    <tr>\n",
              "      <th>0</th>\n",
              "      <td>YG</td>\n",
              "      <td>2RM4jf1Xa9zPgMGRDiht8O</td>\n",
              "      <td>Big Bank feat. 2 Chainz, Big Sean, Nicki Minaj</td>\n",
              "      <td>0.005820</td>\n",
              "      <td>0.743</td>\n",
              "      <td>238373</td>\n",
              "      <td>0.339</td>\n",
              "      <td>0.000</td>\n",
              "      <td>1</td>\n",
              "      <td>0.0812</td>\n",
              "      <td>-7.678</td>\n",
              "      <td>1</td>\n",
              "      <td>0.4090</td>\n",
              "      <td>203.927</td>\n",
              "      <td>4</td>\n",
              "      <td>0.118</td>\n",
              "      <td>15</td>\n",
              "      <td>1</td>\n",
              "      <td>1</td>\n",
              "    </tr>\n",
              "    <tr>\n",
              "      <th>1</th>\n",
              "      <td>YG</td>\n",
              "      <td>1tHDG53xJNGsItRA3vfVgs</td>\n",
              "      <td>BAND DRUM (feat. A$AP Rocky)</td>\n",
              "      <td>0.024400</td>\n",
              "      <td>0.846</td>\n",
              "      <td>214800</td>\n",
              "      <td>0.557</td>\n",
              "      <td>0.000</td>\n",
              "      <td>8</td>\n",
              "      <td>0.2860</td>\n",
              "      <td>-7.259</td>\n",
              "      <td>1</td>\n",
              "      <td>0.4570</td>\n",
              "      <td>159.009</td>\n",
              "      <td>4</td>\n",
              "      <td>0.371</td>\n",
              "      <td>0</td>\n",
              "      <td>2</td>\n",
              "      <td>1</td>\n",
              "    </tr>\n",
              "    <tr>\n",
              "      <th>2</th>\n",
              "      <td>R3HAB</td>\n",
              "      <td>6Wosx2euFPMT14UXiWudMy</td>\n",
              "      <td>Radio Silence</td>\n",
              "      <td>0.025000</td>\n",
              "      <td>0.603</td>\n",
              "      <td>138913</td>\n",
              "      <td>0.723</td>\n",
              "      <td>0.000</td>\n",
              "      <td>9</td>\n",
              "      <td>0.0824</td>\n",
              "      <td>-5.890</td>\n",
              "      <td>0</td>\n",
              "      <td>0.0454</td>\n",
              "      <td>114.966</td>\n",
              "      <td>4</td>\n",
              "      <td>0.382</td>\n",
              "      <td>56</td>\n",
              "      <td>3</td>\n",
              "      <td>2</td>\n",
              "    </tr>\n",
              "    <tr>\n",
              "      <th>3</th>\n",
              "      <td>Chris Cooq</td>\n",
              "      <td>3J2Jpw61sO7l6Hc7qdYV91</td>\n",
              "      <td>Lactose</td>\n",
              "      <td>0.029400</td>\n",
              "      <td>0.800</td>\n",
              "      <td>125381</td>\n",
              "      <td>0.579</td>\n",
              "      <td>0.912</td>\n",
              "      <td>5</td>\n",
              "      <td>0.0994</td>\n",
              "      <td>-12.118</td>\n",
              "      <td>0</td>\n",
              "      <td>0.0701</td>\n",
              "      <td>123.003</td>\n",
              "      <td>4</td>\n",
              "      <td>0.641</td>\n",
              "      <td>0</td>\n",
              "      <td>4</td>\n",
              "      <td>3</td>\n",
              "    </tr>\n",
              "    <tr>\n",
              "      <th>4</th>\n",
              "      <td>Chris Cooq</td>\n",
              "      <td>2jbYvQCyPgX3CdmAzeVeuS</td>\n",
              "      <td>Same - Original mix</td>\n",
              "      <td>0.000035</td>\n",
              "      <td>0.783</td>\n",
              "      <td>124016</td>\n",
              "      <td>0.792</td>\n",
              "      <td>0.878</td>\n",
              "      <td>7</td>\n",
              "      <td>0.0332</td>\n",
              "      <td>-10.277</td>\n",
              "      <td>1</td>\n",
              "      <td>0.0661</td>\n",
              "      <td>120.047</td>\n",
              "      <td>4</td>\n",
              "      <td>0.928</td>\n",
              "      <td>0</td>\n",
              "      <td>5</td>\n",
              "      <td>3</td>\n",
              "    </tr>\n",
              "  </tbody>\n",
              "</table>\n",
              "</div>"
            ],
            "text/plain": [
              "  artist_name                track_id  ... track_key  artist_key\n",
              "0          YG  2RM4jf1Xa9zPgMGRDiht8O  ...         1           1\n",
              "1          YG  1tHDG53xJNGsItRA3vfVgs  ...         2           1\n",
              "2       R3HAB  6Wosx2euFPMT14UXiWudMy  ...         3           2\n",
              "3  Chris Cooq  3J2Jpw61sO7l6Hc7qdYV91  ...         4           3\n",
              "4  Chris Cooq  2jbYvQCyPgX3CdmAzeVeuS  ...         5           3\n",
              "\n",
              "[5 rows x 19 columns]"
            ]
          },
          "metadata": {
            "tags": []
          },
          "execution_count": 18
        }
      ]
    },
    {
      "cell_type": "code",
      "metadata": {
        "id": "WaDLrzpu9R5e",
        "colab_type": "code",
        "colab": {
          "base_uri": "https://localhost:8080/",
          "height": 197
        },
        "outputId": "8af2d818-ea2a-4da6-e980-341df361698d"
      },
      "source": [
        "dictionary.head()"
      ],
      "execution_count": 19,
      "outputs": [
        {
          "output_type": "execute_result",
          "data": {
            "text/html": [
              "<div>\n",
              "<style scoped>\n",
              "    .dataframe tbody tr th:only-of-type {\n",
              "        vertical-align: middle;\n",
              "    }\n",
              "\n",
              "    .dataframe tbody tr th {\n",
              "        vertical-align: top;\n",
              "    }\n",
              "\n",
              "    .dataframe thead th {\n",
              "        text-align: right;\n",
              "    }\n",
              "</style>\n",
              "<table border=\"1\" class=\"dataframe\">\n",
              "  <thead>\n",
              "    <tr style=\"text-align: right;\">\n",
              "      <th></th>\n",
              "      <th>artist_name</th>\n",
              "      <th>track_name</th>\n",
              "      <th>track_key</th>\n",
              "      <th>track_id</th>\n",
              "    </tr>\n",
              "  </thead>\n",
              "  <tbody>\n",
              "    <tr>\n",
              "      <th>0</th>\n",
              "      <td>YG</td>\n",
              "      <td>Big Bank feat. 2 Chainz, Big Sean, Nicki Minaj</td>\n",
              "      <td>1</td>\n",
              "      <td>2RM4jf1Xa9zPgMGRDiht8O</td>\n",
              "    </tr>\n",
              "    <tr>\n",
              "      <th>1</th>\n",
              "      <td>YG</td>\n",
              "      <td>BAND DRUM (feat. A$AP Rocky)</td>\n",
              "      <td>2</td>\n",
              "      <td>1tHDG53xJNGsItRA3vfVgs</td>\n",
              "    </tr>\n",
              "    <tr>\n",
              "      <th>2</th>\n",
              "      <td>R3HAB</td>\n",
              "      <td>Radio Silence</td>\n",
              "      <td>3</td>\n",
              "      <td>6Wosx2euFPMT14UXiWudMy</td>\n",
              "    </tr>\n",
              "    <tr>\n",
              "      <th>3</th>\n",
              "      <td>Chris Cooq</td>\n",
              "      <td>Lactose</td>\n",
              "      <td>4</td>\n",
              "      <td>3J2Jpw61sO7l6Hc7qdYV91</td>\n",
              "    </tr>\n",
              "    <tr>\n",
              "      <th>4</th>\n",
              "      <td>Chris Cooq</td>\n",
              "      <td>Same - Original mix</td>\n",
              "      <td>5</td>\n",
              "      <td>2jbYvQCyPgX3CdmAzeVeuS</td>\n",
              "    </tr>\n",
              "  </tbody>\n",
              "</table>\n",
              "</div>"
            ],
            "text/plain": [
              "  artist_name  ...                track_id\n",
              "0          YG  ...  2RM4jf1Xa9zPgMGRDiht8O\n",
              "1          YG  ...  1tHDG53xJNGsItRA3vfVgs\n",
              "2       R3HAB  ...  6Wosx2euFPMT14UXiWudMy\n",
              "3  Chris Cooq  ...  3J2Jpw61sO7l6Hc7qdYV91\n",
              "4  Chris Cooq  ...  2jbYvQCyPgX3CdmAzeVeuS\n",
              "\n",
              "[5 rows x 4 columns]"
            ]
          },
          "metadata": {
            "tags": []
          },
          "execution_count": 19
        }
      ]
    },
    {
      "cell_type": "code",
      "metadata": {
        "id": "Ic8HEVM97LAe",
        "colab_type": "code",
        "colab": {}
      },
      "source": [
        "# drop columns for training\n",
        "df = df.drop(\n",
        "    columns=[\n",
        "        'artist_name',\n",
        "        'track_id',\n",
        "        'track_name',\n",
        "        'track_key',\n",
        "        'duration_ms',\n",
        "        'mode',\n",
        "        'loudness',\n",
        "        'time_signature'])\n"
      ],
      "execution_count": 0,
      "outputs": []
    },
    {
      "cell_type": "code",
      "metadata": {
        "id": "ArGCy6Xs9YGB",
        "colab_type": "code",
        "colab": {
          "base_uri": "https://localhost:8080/",
          "height": 197
        },
        "outputId": "f65e18be-4025-4350-b453-c28d1a9a865c"
      },
      "source": [
        "df.head()"
      ],
      "execution_count": 21,
      "outputs": [
        {
          "output_type": "execute_result",
          "data": {
            "text/html": [
              "<div>\n",
              "<style scoped>\n",
              "    .dataframe tbody tr th:only-of-type {\n",
              "        vertical-align: middle;\n",
              "    }\n",
              "\n",
              "    .dataframe tbody tr th {\n",
              "        vertical-align: top;\n",
              "    }\n",
              "\n",
              "    .dataframe thead th {\n",
              "        text-align: right;\n",
              "    }\n",
              "</style>\n",
              "<table border=\"1\" class=\"dataframe\">\n",
              "  <thead>\n",
              "    <tr style=\"text-align: right;\">\n",
              "      <th></th>\n",
              "      <th>acousticness</th>\n",
              "      <th>danceability</th>\n",
              "      <th>energy</th>\n",
              "      <th>instrumentalness</th>\n",
              "      <th>key</th>\n",
              "      <th>liveness</th>\n",
              "      <th>speechiness</th>\n",
              "      <th>tempo</th>\n",
              "      <th>valence</th>\n",
              "      <th>popularity</th>\n",
              "      <th>artist_key</th>\n",
              "    </tr>\n",
              "  </thead>\n",
              "  <tbody>\n",
              "    <tr>\n",
              "      <th>0</th>\n",
              "      <td>0.005820</td>\n",
              "      <td>0.743</td>\n",
              "      <td>0.339</td>\n",
              "      <td>0.000</td>\n",
              "      <td>1</td>\n",
              "      <td>0.0812</td>\n",
              "      <td>0.4090</td>\n",
              "      <td>203.927</td>\n",
              "      <td>0.118</td>\n",
              "      <td>15</td>\n",
              "      <td>1</td>\n",
              "    </tr>\n",
              "    <tr>\n",
              "      <th>1</th>\n",
              "      <td>0.024400</td>\n",
              "      <td>0.846</td>\n",
              "      <td>0.557</td>\n",
              "      <td>0.000</td>\n",
              "      <td>8</td>\n",
              "      <td>0.2860</td>\n",
              "      <td>0.4570</td>\n",
              "      <td>159.009</td>\n",
              "      <td>0.371</td>\n",
              "      <td>0</td>\n",
              "      <td>1</td>\n",
              "    </tr>\n",
              "    <tr>\n",
              "      <th>2</th>\n",
              "      <td>0.025000</td>\n",
              "      <td>0.603</td>\n",
              "      <td>0.723</td>\n",
              "      <td>0.000</td>\n",
              "      <td>9</td>\n",
              "      <td>0.0824</td>\n",
              "      <td>0.0454</td>\n",
              "      <td>114.966</td>\n",
              "      <td>0.382</td>\n",
              "      <td>56</td>\n",
              "      <td>2</td>\n",
              "    </tr>\n",
              "    <tr>\n",
              "      <th>3</th>\n",
              "      <td>0.029400</td>\n",
              "      <td>0.800</td>\n",
              "      <td>0.579</td>\n",
              "      <td>0.912</td>\n",
              "      <td>5</td>\n",
              "      <td>0.0994</td>\n",
              "      <td>0.0701</td>\n",
              "      <td>123.003</td>\n",
              "      <td>0.641</td>\n",
              "      <td>0</td>\n",
              "      <td>3</td>\n",
              "    </tr>\n",
              "    <tr>\n",
              "      <th>4</th>\n",
              "      <td>0.000035</td>\n",
              "      <td>0.783</td>\n",
              "      <td>0.792</td>\n",
              "      <td>0.878</td>\n",
              "      <td>7</td>\n",
              "      <td>0.0332</td>\n",
              "      <td>0.0661</td>\n",
              "      <td>120.047</td>\n",
              "      <td>0.928</td>\n",
              "      <td>0</td>\n",
              "      <td>3</td>\n",
              "    </tr>\n",
              "  </tbody>\n",
              "</table>\n",
              "</div>"
            ],
            "text/plain": [
              "   acousticness  danceability  energy  ...  valence  popularity  artist_key\n",
              "0      0.005820         0.743   0.339  ...    0.118          15           1\n",
              "1      0.024400         0.846   0.557  ...    0.371           0           1\n",
              "2      0.025000         0.603   0.723  ...    0.382          56           2\n",
              "3      0.029400         0.800   0.579  ...    0.641           0           3\n",
              "4      0.000035         0.783   0.792  ...    0.928           0           3\n",
              "\n",
              "[5 rows x 11 columns]"
            ]
          },
          "metadata": {
            "tags": []
          },
          "execution_count": 21
        }
      ]
    },
    {
      "cell_type": "code",
      "metadata": {
        "id": "5S4vszQw7LPU",
        "colab_type": "code",
        "colab": {}
      },
      "source": [
        "# Scale the data\n",
        "scaler = StandardScaler()\n",
        "df_s = scaler.fit_transform(df)"
      ],
      "execution_count": 0,
      "outputs": []
    },
    {
      "cell_type": "code",
      "metadata": {
        "id": "U1YuKHeD7LR7",
        "colab_type": "code",
        "colab": {}
      },
      "source": [
        "def predictor(track_key):\n",
        "    '''\n",
        "    Function to take \"track key\" of a song of interest from dataframe, and\n",
        "    return a list of track_ids of the closest related 10songs.\n",
        "\n",
        "    output format:\n",
        "  ['4fbaKWFRghusXd4bSBvvfN']\n",
        "\n",
        "    '''\n",
        "\n",
        "    # Convert \"track_key\" to the index of the song\n",
        "    input_dictionary_entry = dictionary[dictionary['track_key'] == track_key]\n",
        "    input_index = input_dictionary_entry.index[0]\n",
        "\n",
        "    # Nearest Neighbors model\n",
        "    nn = NearestNeighbors(n_neighbors=10, algorithm='kd_tree')\n",
        "    nn.fit(df_s)\n",
        "\n",
        "    neighbor_predictions = nn.kneighbors([df_s[input_index]])\n",
        "\n",
        "    # This is a list of the INDEXES of the songs\n",
        "    list_of_predictions = neighbor_predictions[1][0].tolist()\n",
        "\n",
        "    similar_tracks = []\n",
        "    for item in list_of_predictions:\n",
        "        track_hash = dictionary['track_id'].iloc[item]\n",
        "        similar_tracks.append(track_hash)\n",
        "\n",
        "    return similar_tracks"
      ],
      "execution_count": 0,
      "outputs": []
    },
    {
      "cell_type": "code",
      "metadata": {
        "id": "ql8lKMtj7LUn",
        "colab_type": "code",
        "colab": {
          "base_uri": "https://localhost:8080/",
          "height": 54
        },
        "outputId": "470332d2-d042-4beb-9e57-4bbb47a77053"
      },
      "source": [
        "# testing functionality\n",
        "track_key = 1\n",
        "print(predictor(track_key))"
      ],
      "execution_count": 55,
      "outputs": [
        {
          "output_type": "stream",
          "text": [
            "['2RM4jf1Xa9zPgMGRDiht8O', '02s1Voowwhr0qTSOrMVEXk', '6PIdcDdMuoyAWeVqMRMLlR', '0MiAP4EQGIuikH23RTyP53', '2lD4dQpcac8H2Rq5nttJJh', '07lPxulz2gpCAVvgemzedl', '5MccaBOgJh4MsJNoj72eij', '3QBTZEqaCbJxztWh5NTKHs', '6yoM6KoDpWXKIWo9UnZ3Ef', '7Jbt6KWzS8cpP1xnW0tQ96']\n"
          ],
          "name": "stdout"
        }
      ]
    },
    {
      "cell_type": "code",
      "metadata": {
        "id": "Yjpcadau-hSe",
        "colab_type": "code",
        "colab": {}
      },
      "source": [
        "# song features, for plotting\n",
        "def feature_average(track_key):\n",
        "    '''\n",
        "    This function returns the sum of the features for the ten recommended songs.\n",
        "    '''\n",
        "    similar_tracks = predictor(track_key)\n",
        "    # Return a dataframe with only the ten most similar tracks\n",
        "    similar_tracks = data[data[\"track_id\"].isin(similar_tracks)]\n",
        "    similar_tracks = similar_tracks[['acousticness', 'danceability',\n",
        "                                     'energy', 'instrumentalness',\n",
        "                                     'liveness', 'mode',\n",
        "                                     'speechiness', 'valence']]\n",
        "    # Average features of ten tracks\n",
        "    acousticness = round(similar_tracks['acousticness'].mean(), 2)\n",
        "    danceability = round(similar_tracks['danceability'].mean(), 2)\n",
        "    energy = round(similar_tracks['energy'].mean(), 2)\n",
        "    instrumentalness = round(similar_tracks['instrumentalness'].mean(), 2)\n",
        "    liveness = round(similar_tracks['liveness'].mean(), 2)\n",
        "    mode = round(similar_tracks['mode'].mean(), 2)\n",
        "    speechiness = round(similar_tracks['speechiness'].mean(), 2)\n",
        "    valence = round(similar_tracks['valence'].mean(), 2)\n",
        "    # Store all to \"features\" variable\n",
        "    features = []\n",
        "    attributes = [\n",
        "        acousticness,\n",
        "        danceability,\n",
        "        energy,\n",
        "        instrumentalness,\n",
        "        liveness,\n",
        "        mode,\n",
        "        speechiness,\n",
        "        valence]\n",
        "    # features.append(acousticness)\n",
        "    for attribute in attributes:\n",
        "        features.append(attribute)\n",
        "    return features"
      ],
      "execution_count": 0,
      "outputs": []
    },
    {
      "cell_type": "code",
      "metadata": {
        "id": "mSrahSpg-lba",
        "colab_type": "code",
        "colab": {
          "base_uri": "https://localhost:8080/",
          "height": 34
        },
        "outputId": "4cf2db17-67a3-4de5-f4ad-cdd221e1ca6c"
      },
      "source": [
        "# testing functionality\n",
        "print(feature_average(track_key))"
      ],
      "execution_count": 56,
      "outputs": [
        {
          "output_type": "stream",
          "text": [
            "[0.06, 0.73, 0.42, 0.0, 0.12, 1.0, 0.41, 0.25]\n"
          ],
          "name": "stdout"
        }
      ]
    },
    {
      "cell_type": "code",
      "metadata": {
        "id": "hMI5edr9_xoc",
        "colab_type": "code",
        "colab": {
          "base_uri": "https://localhost:8080/",
          "height": 34
        },
        "outputId": "fbac42d4-3c37-4e31-a5da-3079870b3d54"
      },
      "source": [
        "type(feature_average(track_key))"
      ],
      "execution_count": 52,
      "outputs": [
        {
          "output_type": "execute_result",
          "data": {
            "text/plain": [
              "list"
            ]
          },
          "metadata": {
            "tags": []
          },
          "execution_count": 52
        }
      ]
    },
    {
      "cell_type": "code",
      "metadata": {
        "id": "WUKT49dO-leU",
        "colab_type": "code",
        "colab": {
          "base_uri": "https://localhost:8080/",
          "height": 542
        },
        "outputId": "1e41d2df-a3de-4355-d0ca-071e990b4f5b"
      },
      "source": [
        "# plotply radar-chart (https://plotly.com/python/radar-chart/)\n",
        "import plotly.express as px\n",
        "import pandas as pd\n",
        "\n",
        "r =feature_average(track_key)\n",
        "\n",
        "attributes = [\n",
        "        'acousticness',\n",
        "        'danceability',\n",
        "        'energy',\n",
        "        'instrumentalness',\n",
        "        'liveness',\n",
        "        'mode',\n",
        "        'speechiness',\n",
        "        'valence']\n",
        "\n",
        "fig = px.line_polar(r=r, theta=attributes, line_close=True)\n",
        "fig.update_traces(fill='toself')\n",
        "fig.show()"
      ],
      "execution_count": 57,
      "outputs": [
        {
          "output_type": "display_data",
          "data": {
            "text/html": [
              "<html>\n",
              "<head><meta charset=\"utf-8\" /></head>\n",
              "<body>\n",
              "    <div>\n",
              "            <script src=\"https://cdnjs.cloudflare.com/ajax/libs/mathjax/2.7.5/MathJax.js?config=TeX-AMS-MML_SVG\"></script><script type=\"text/javascript\">if (window.MathJax) {MathJax.Hub.Config({SVG: {font: \"STIX-Web\"}});}</script>\n",
              "                <script type=\"text/javascript\">window.PlotlyConfig = {MathJaxConfig: 'local'};</script>\n",
              "        <script src=\"https://cdn.plot.ly/plotly-latest.min.js\"></script>    \n",
              "            <div id=\"e9c37fdc-07fd-469f-a235-f3bee8cd9d70\" class=\"plotly-graph-div\" style=\"height:525px; width:100%;\"></div>\n",
              "            <script type=\"text/javascript\">\n",
              "                \n",
              "                    window.PLOTLYENV=window.PLOTLYENV || {};\n",
              "                    \n",
              "                if (document.getElementById(\"e9c37fdc-07fd-469f-a235-f3bee8cd9d70\")) {\n",
              "                    Plotly.newPlot(\n",
              "                        'e9c37fdc-07fd-469f-a235-f3bee8cd9d70',\n",
              "                        [{\"fill\": \"toself\", \"hoverlabel\": {\"namelength\": 0}, \"hovertemplate\": \"r=%{r}<br>theta=%{theta}\", \"legendgroup\": \"\", \"line\": {\"color\": \"#636efa\", \"dash\": \"solid\"}, \"mode\": \"lines\", \"name\": \"\", \"r\": [0.06, 0.73, 0.42, 0.0, 0.12, 1.0, 0.41, 0.25, 0.06], \"showlegend\": false, \"subplot\": \"polar\", \"theta\": [\"acousticness\", \"danceability\", \"energy\", \"instrumentalness\", \"liveness\", \"mode\", \"speechiness\", \"valence\", \"acousticness\"], \"type\": \"scatterpolar\"}],\n",
              "                        {\"legend\": {\"tracegroupgap\": 0}, \"margin\": {\"t\": 60}, \"polar\": {\"angularaxis\": {\"direction\": \"clockwise\", \"rotation\": 90}, \"domain\": {\"x\": [0.0, 1.0], \"y\": [0.0, 1.0]}}, \"template\": {\"data\": {\"bar\": [{\"error_x\": {\"color\": \"#2a3f5f\"}, \"error_y\": {\"color\": \"#2a3f5f\"}, \"marker\": {\"line\": {\"color\": \"#E5ECF6\", \"width\": 0.5}}, \"type\": \"bar\"}], \"barpolar\": [{\"marker\": {\"line\": {\"color\": \"#E5ECF6\", \"width\": 0.5}}, \"type\": \"barpolar\"}], \"carpet\": [{\"aaxis\": {\"endlinecolor\": \"#2a3f5f\", \"gridcolor\": \"white\", \"linecolor\": \"white\", \"minorgridcolor\": \"white\", \"startlinecolor\": \"#2a3f5f\"}, \"baxis\": {\"endlinecolor\": \"#2a3f5f\", \"gridcolor\": \"white\", \"linecolor\": \"white\", \"minorgridcolor\": \"white\", \"startlinecolor\": \"#2a3f5f\"}, \"type\": \"carpet\"}], \"choropleth\": [{\"colorbar\": {\"outlinewidth\": 0, \"ticks\": \"\"}, \"type\": \"choropleth\"}], \"contour\": [{\"colorbar\": {\"outlinewidth\": 0, \"ticks\": \"\"}, \"colorscale\": [[0.0, \"#0d0887\"], [0.1111111111111111, \"#46039f\"], [0.2222222222222222, \"#7201a8\"], [0.3333333333333333, \"#9c179e\"], [0.4444444444444444, \"#bd3786\"], [0.5555555555555556, \"#d8576b\"], [0.6666666666666666, \"#ed7953\"], [0.7777777777777778, \"#fb9f3a\"], [0.8888888888888888, \"#fdca26\"], [1.0, \"#f0f921\"]], \"type\": \"contour\"}], \"contourcarpet\": [{\"colorbar\": {\"outlinewidth\": 0, \"ticks\": \"\"}, \"type\": \"contourcarpet\"}], \"heatmap\": [{\"colorbar\": {\"outlinewidth\": 0, \"ticks\": \"\"}, \"colorscale\": [[0.0, \"#0d0887\"], [0.1111111111111111, \"#46039f\"], [0.2222222222222222, \"#7201a8\"], [0.3333333333333333, \"#9c179e\"], [0.4444444444444444, \"#bd3786\"], [0.5555555555555556, \"#d8576b\"], [0.6666666666666666, \"#ed7953\"], [0.7777777777777778, \"#fb9f3a\"], [0.8888888888888888, \"#fdca26\"], [1.0, \"#f0f921\"]], \"type\": \"heatmap\"}], \"heatmapgl\": [{\"colorbar\": {\"outlinewidth\": 0, \"ticks\": \"\"}, \"colorscale\": [[0.0, \"#0d0887\"], [0.1111111111111111, \"#46039f\"], [0.2222222222222222, \"#7201a8\"], [0.3333333333333333, \"#9c179e\"], [0.4444444444444444, \"#bd3786\"], [0.5555555555555556, \"#d8576b\"], [0.6666666666666666, \"#ed7953\"], [0.7777777777777778, \"#fb9f3a\"], [0.8888888888888888, \"#fdca26\"], [1.0, \"#f0f921\"]], \"type\": \"heatmapgl\"}], \"histogram\": [{\"marker\": {\"colorbar\": {\"outlinewidth\": 0, \"ticks\": \"\"}}, \"type\": \"histogram\"}], \"histogram2d\": [{\"colorbar\": {\"outlinewidth\": 0, \"ticks\": \"\"}, \"colorscale\": [[0.0, \"#0d0887\"], [0.1111111111111111, \"#46039f\"], [0.2222222222222222, \"#7201a8\"], [0.3333333333333333, \"#9c179e\"], [0.4444444444444444, \"#bd3786\"], [0.5555555555555556, \"#d8576b\"], [0.6666666666666666, \"#ed7953\"], [0.7777777777777778, \"#fb9f3a\"], [0.8888888888888888, \"#fdca26\"], [1.0, \"#f0f921\"]], \"type\": \"histogram2d\"}], \"histogram2dcontour\": [{\"colorbar\": {\"outlinewidth\": 0, \"ticks\": \"\"}, \"colorscale\": [[0.0, \"#0d0887\"], [0.1111111111111111, \"#46039f\"], [0.2222222222222222, \"#7201a8\"], [0.3333333333333333, \"#9c179e\"], [0.4444444444444444, \"#bd3786\"], [0.5555555555555556, \"#d8576b\"], [0.6666666666666666, \"#ed7953\"], [0.7777777777777778, \"#fb9f3a\"], [0.8888888888888888, \"#fdca26\"], [1.0, \"#f0f921\"]], \"type\": \"histogram2dcontour\"}], \"mesh3d\": [{\"colorbar\": {\"outlinewidth\": 0, \"ticks\": \"\"}, \"type\": \"mesh3d\"}], \"parcoords\": [{\"line\": {\"colorbar\": {\"outlinewidth\": 0, \"ticks\": \"\"}}, \"type\": \"parcoords\"}], \"pie\": [{\"automargin\": true, \"type\": \"pie\"}], \"scatter\": [{\"marker\": {\"colorbar\": {\"outlinewidth\": 0, \"ticks\": \"\"}}, \"type\": \"scatter\"}], \"scatter3d\": [{\"line\": {\"colorbar\": {\"outlinewidth\": 0, \"ticks\": \"\"}}, \"marker\": {\"colorbar\": {\"outlinewidth\": 0, \"ticks\": \"\"}}, \"type\": \"scatter3d\"}], \"scattercarpet\": [{\"marker\": {\"colorbar\": {\"outlinewidth\": 0, \"ticks\": \"\"}}, \"type\": \"scattercarpet\"}], \"scattergeo\": [{\"marker\": {\"colorbar\": {\"outlinewidth\": 0, \"ticks\": \"\"}}, \"type\": \"scattergeo\"}], \"scattergl\": [{\"marker\": {\"colorbar\": {\"outlinewidth\": 0, \"ticks\": \"\"}}, \"type\": \"scattergl\"}], \"scattermapbox\": [{\"marker\": {\"colorbar\": {\"outlinewidth\": 0, \"ticks\": \"\"}}, \"type\": \"scattermapbox\"}], \"scatterpolar\": [{\"marker\": {\"colorbar\": {\"outlinewidth\": 0, \"ticks\": \"\"}}, \"type\": \"scatterpolar\"}], \"scatterpolargl\": [{\"marker\": {\"colorbar\": {\"outlinewidth\": 0, \"ticks\": \"\"}}, \"type\": \"scatterpolargl\"}], \"scatterternary\": [{\"marker\": {\"colorbar\": {\"outlinewidth\": 0, \"ticks\": \"\"}}, \"type\": \"scatterternary\"}], \"surface\": [{\"colorbar\": {\"outlinewidth\": 0, \"ticks\": \"\"}, \"colorscale\": [[0.0, \"#0d0887\"], [0.1111111111111111, \"#46039f\"], [0.2222222222222222, \"#7201a8\"], [0.3333333333333333, \"#9c179e\"], [0.4444444444444444, \"#bd3786\"], [0.5555555555555556, \"#d8576b\"], [0.6666666666666666, \"#ed7953\"], [0.7777777777777778, \"#fb9f3a\"], [0.8888888888888888, \"#fdca26\"], [1.0, \"#f0f921\"]], \"type\": \"surface\"}], \"table\": [{\"cells\": {\"fill\": {\"color\": \"#EBF0F8\"}, \"line\": {\"color\": \"white\"}}, \"header\": {\"fill\": {\"color\": \"#C8D4E3\"}, \"line\": {\"color\": \"white\"}}, \"type\": \"table\"}]}, \"layout\": {\"annotationdefaults\": {\"arrowcolor\": \"#2a3f5f\", \"arrowhead\": 0, \"arrowwidth\": 1}, \"coloraxis\": {\"colorbar\": {\"outlinewidth\": 0, \"ticks\": \"\"}}, \"colorscale\": {\"diverging\": [[0, \"#8e0152\"], [0.1, \"#c51b7d\"], [0.2, \"#de77ae\"], [0.3, \"#f1b6da\"], [0.4, \"#fde0ef\"], [0.5, \"#f7f7f7\"], [0.6, \"#e6f5d0\"], [0.7, \"#b8e186\"], [0.8, \"#7fbc41\"], [0.9, \"#4d9221\"], [1, \"#276419\"]], \"sequential\": [[0.0, \"#0d0887\"], [0.1111111111111111, \"#46039f\"], [0.2222222222222222, \"#7201a8\"], [0.3333333333333333, \"#9c179e\"], [0.4444444444444444, \"#bd3786\"], [0.5555555555555556, \"#d8576b\"], [0.6666666666666666, \"#ed7953\"], [0.7777777777777778, \"#fb9f3a\"], [0.8888888888888888, \"#fdca26\"], [1.0, \"#f0f921\"]], \"sequentialminus\": [[0.0, \"#0d0887\"], [0.1111111111111111, \"#46039f\"], [0.2222222222222222, \"#7201a8\"], [0.3333333333333333, \"#9c179e\"], [0.4444444444444444, \"#bd3786\"], [0.5555555555555556, \"#d8576b\"], [0.6666666666666666, \"#ed7953\"], [0.7777777777777778, \"#fb9f3a\"], [0.8888888888888888, \"#fdca26\"], [1.0, \"#f0f921\"]]}, \"colorway\": [\"#636efa\", \"#EF553B\", \"#00cc96\", \"#ab63fa\", \"#FFA15A\", \"#19d3f3\", \"#FF6692\", \"#B6E880\", \"#FF97FF\", \"#FECB52\"], \"font\": {\"color\": \"#2a3f5f\"}, \"geo\": {\"bgcolor\": \"white\", \"lakecolor\": \"white\", \"landcolor\": \"#E5ECF6\", \"showlakes\": true, \"showland\": true, \"subunitcolor\": \"white\"}, \"hoverlabel\": {\"align\": \"left\"}, \"hovermode\": \"closest\", \"mapbox\": {\"style\": \"light\"}, \"paper_bgcolor\": \"white\", \"plot_bgcolor\": \"#E5ECF6\", \"polar\": {\"angularaxis\": {\"gridcolor\": \"white\", \"linecolor\": \"white\", \"ticks\": \"\"}, \"bgcolor\": \"#E5ECF6\", \"radialaxis\": {\"gridcolor\": \"white\", \"linecolor\": \"white\", \"ticks\": \"\"}}, \"scene\": {\"xaxis\": {\"backgroundcolor\": \"#E5ECF6\", \"gridcolor\": \"white\", \"gridwidth\": 2, \"linecolor\": \"white\", \"showbackground\": true, \"ticks\": \"\", \"zerolinecolor\": \"white\"}, \"yaxis\": {\"backgroundcolor\": \"#E5ECF6\", \"gridcolor\": \"white\", \"gridwidth\": 2, \"linecolor\": \"white\", \"showbackground\": true, \"ticks\": \"\", \"zerolinecolor\": \"white\"}, \"zaxis\": {\"backgroundcolor\": \"#E5ECF6\", \"gridcolor\": \"white\", \"gridwidth\": 2, \"linecolor\": \"white\", \"showbackground\": true, \"ticks\": \"\", \"zerolinecolor\": \"white\"}}, \"shapedefaults\": {\"line\": {\"color\": \"#2a3f5f\"}}, \"ternary\": {\"aaxis\": {\"gridcolor\": \"white\", \"linecolor\": \"white\", \"ticks\": \"\"}, \"baxis\": {\"gridcolor\": \"white\", \"linecolor\": \"white\", \"ticks\": \"\"}, \"bgcolor\": \"#E5ECF6\", \"caxis\": {\"gridcolor\": \"white\", \"linecolor\": \"white\", \"ticks\": \"\"}}, \"title\": {\"x\": 0.05}, \"xaxis\": {\"automargin\": true, \"gridcolor\": \"white\", \"linecolor\": \"white\", \"ticks\": \"\", \"title\": {\"standoff\": 15}, \"zerolinecolor\": \"white\", \"zerolinewidth\": 2}, \"yaxis\": {\"automargin\": true, \"gridcolor\": \"white\", \"linecolor\": \"white\", \"ticks\": \"\", \"title\": {\"standoff\": 15}, \"zerolinecolor\": \"white\", \"zerolinewidth\": 2}}}},\n",
              "                        {\"responsive\": true}\n",
              "                    ).then(function(){\n",
              "                            \n",
              "var gd = document.getElementById('e9c37fdc-07fd-469f-a235-f3bee8cd9d70');\n",
              "var x = new MutationObserver(function (mutations, observer) {{\n",
              "        var display = window.getComputedStyle(gd).display;\n",
              "        if (!display || display === 'none') {{\n",
              "            console.log([gd, 'removed!']);\n",
              "            Plotly.purge(gd);\n",
              "            observer.disconnect();\n",
              "        }}\n",
              "}});\n",
              "\n",
              "// Listen for the removal of the full notebook cells\n",
              "var notebookContainer = gd.closest('#notebook-container');\n",
              "if (notebookContainer) {{\n",
              "    x.observe(notebookContainer, {childList: true});\n",
              "}}\n",
              "\n",
              "// Listen for the clearing of the current output cell\n",
              "var outputEl = gd.closest('.output');\n",
              "if (outputEl) {{\n",
              "    x.observe(outputEl, {childList: true});\n",
              "}}\n",
              "\n",
              "                        })\n",
              "                };\n",
              "                \n",
              "            </script>\n",
              "        </div>\n",
              "</body>\n",
              "</html>"
            ]
          },
          "metadata": {
            "tags": []
          }
        }
      ]
    }
  ]
}